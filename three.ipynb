{
 "cells": [
  {
   "cell_type": "markdown",
   "id": "c84d6001-460b-4d77-aefa-c1e9696fd7d5",
   "metadata": {},
   "source": [
    "第一引数を数値の1で、第二引数を数値の2を入れた場合には3が返って来るメソッド\n",
    "かつ、第二引数は必須ではない状態で第二引数が空の場合も3が返ってくるメソッド"
   ]
  },
  {
   "cell_type": "code",
   "execution_count": 59,
   "id": "242f06e5-e28f-4e31-9892-02830e55800f",
   "metadata": {},
   "outputs": [],
   "source": [
    "def three(x,y=2):\n",
    "    return x + y"
   ]
  },
  {
   "cell_type": "code",
   "execution_count": 60,
   "id": "add34f83-608c-447f-a969-903676551320",
   "metadata": {},
   "outputs": [
    {
     "data": {
      "text/plain": [
       "3"
      ]
     },
     "execution_count": 60,
     "metadata": {},
     "output_type": "execute_result"
    }
   ],
   "source": [
    "three(1,2)"
   ]
  },
  {
   "cell_type": "code",
   "execution_count": 61,
   "id": "8262e8a1-320e-4b10-b66c-e7753cdfebdd",
   "metadata": {},
   "outputs": [
    {
     "data": {
      "text/plain": [
       "3"
      ]
     },
     "execution_count": 61,
     "metadata": {},
     "output_type": "execute_result"
    }
   ],
   "source": [
    "three(1)"
   ]
  }
 ],
 "metadata": {
  "kernelspec": {
   "display_name": "Python 3",
   "language": "python",
   "name": "python3"
  },
  "language_info": {
   "codemirror_mode": {
    "name": "ipython",
    "version": 3
   },
   "file_extension": ".py",
   "mimetype": "text/x-python",
   "name": "python",
   "nbconvert_exporter": "python",
   "pygments_lexer": "ipython3",
   "version": "3.8.10"
  },
  "widgets": {
   "application/vnd.jupyter.widget-state+json": {
    "state": {},
    "version_major": 2,
    "version_minor": 0
   }
  }
 },
 "nbformat": 4,
 "nbformat_minor": 5
}
